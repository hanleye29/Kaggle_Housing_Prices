{
 "cells": [
  {
   "cell_type": "markdown",
   "id": "bce2fa61",
   "metadata": {},
   "source": [
    "# Housing Prices Competition"
   ]
  },
  {
   "cell_type": "markdown",
   "id": "7005801b",
   "metadata": {},
   "source": [
    "### Import Required Libraries & Modules"
   ]
  },
  {
   "cell_type": "code",
   "execution_count": 1,
   "id": "cf1f7ee4",
   "metadata": {},
   "outputs": [],
   "source": [
    "import pandas as pd\n",
    "from sklearn.compose import ColumnTransformer\n",
    "from sklearn.pipeline import Pipeline\n",
    "from sklearn.impute import SimpleImputer\n",
    "from sklearn.preprocessing import OneHotEncoder\n",
    "from sklearn.ensemble import RandomForestRegressor\n",
    "from sklearn.model_selection import cross_val_score"
   ]
  },
  {
   "cell_type": "markdown",
   "id": "0278be97",
   "metadata": {},
   "source": [
    "### Read test and train data into DataFrames, drop sale price from training data, and set target."
   ]
  },
  {
   "cell_type": "code",
   "execution_count": 2,
   "id": "e263ec70",
   "metadata": {},
   "outputs": [],
   "source": [
    "#Links to csv files\n",
    "trainPath = r'C:\\Users\\TE435942\\Jupyter_Notebook_Repository\\Kaggle\\Housing Market Analysis\\train.csv'\n",
    "testPath =  r'C:\\Users\\TE435942\\Jupyter_Notebook_Repository\\Kaggle\\Housing Market Analysis\\test.csv'\n",
    "\n",
    "#Load CSV's into DataFrame\n",
    "train_data = pd.read_csv(trainPath)\n",
    "test_data = pd.read_csv(testPath)\n",
    "\n",
    "#Drop Sale Price from training data and set the target.\n",
    "train_data.dropna(axis=0, subset=['SalePrice'], inplace=True)\n",
    "y = train_data.SalePrice              \n",
    "train_data.drop(['SalePrice'], axis=1, inplace=True)"
   ]
  },
  {
   "cell_type": "markdown",
   "id": "888e60ff",
   "metadata": {},
   "source": [
    "### Determine categorical column names with cardinality < 10 and numerical column names in data set. Create copies."
   ]
  },
  {
   "cell_type": "code",
   "execution_count": 3,
   "id": "c14d0fa7",
   "metadata": {},
   "outputs": [],
   "source": [
    "#Create a list of categorical columns in train_data with cardinality < 10\n",
    "categorical_cols = [cname for cname in train_data.columns if\n",
    "                    train_data[cname].nunique() < 10 and \n",
    "                    train_data[cname].dtype == \"object\"]\n",
    "\n",
    "#Create a list of numerical columns in train_data\n",
    "numerical_cols = [cname for cname in train_data.columns if \n",
    "                train_data[cname].dtype in ['int64', 'float64']]\n",
    "\n",
    "#Combine lists to make a list containing all column names to be analyzed.\n",
    "my_cols = categorical_cols + numerical_cols\n",
    "\n",
    "#Create training and test data sets for model building with columns to be analyzed.\n",
    "X = train_data[my_cols].copy()\n",
    "X_test = test_data[my_cols].copy()"
   ]
  },
  {
   "cell_type": "markdown",
   "id": "7c4ba2e0",
   "metadata": {},
   "source": [
    "### Create preprocessors for numerical data and categorical data. Then bundle into one preprocessor that will be used in the Pipeline."
   ]
  },
  {
   "cell_type": "code",
   "execution_count": 4,
   "id": "84b908dd",
   "metadata": {},
   "outputs": [],
   "source": [
    "# Preprocessing for numerical data - SimpleImputer(mean) fills NaN values with mean of respective column.\n",
    "numerical_transformer = SimpleImputer(strategy='mean')\n",
    "\n",
    "# Preprocessing for categorical data - SimpleImputer fills NaN values with string 'NA'. OneHotEncoder encodes cat data.\n",
    "categorical_transformer = Pipeline(steps=[\n",
    "    ('imputer', SimpleImputer(strategy='constant', fill_value = 'NA')),\n",
    "    ('onehot', OneHotEncoder(handle_unknown='ignore'))\n",
    "])\n",
    "\n",
    "# Bundle preprocessing for numerical and categorical data\n",
    "preprocessor = ColumnTransformer(\n",
    "    transformers=[\n",
    "        ('num', numerical_transformer, numerical_cols),\n",
    "        ('cat', categorical_transformer, categorical_cols)\n",
    "    ])"
   ]
  },
  {
   "cell_type": "markdown",
   "id": "555efe2c",
   "metadata": {},
   "source": [
    "### Now we want to determine the efficacy of a RandomForestRegressor model given the number of estimators. This function passes n_estimators to the function which then defines the model, bundles that model with the preproccessor defined above, and then cross-validates the model using MAE to provide us with a better measure of model quality."
   ]
  },
  {
   "cell_type": "code",
   "execution_count": 5,
   "id": "a0ca1225",
   "metadata": {},
   "outputs": [],
   "source": [
    "def get_score(n_estimators):\n",
    "    # Define model\n",
    "    model = RandomForestRegressor(n_estimators=n_estimators, random_state=0)\n",
    "\n",
    "    # Bundle preprocessing and modeling code in a pipeline\n",
    "    clf = Pipeline(steps=[('preprocessor', preprocessor),\n",
    "                          ('model', model)\n",
    "                         ])\n",
    "    \n",
    "    # Cross validate the model using the Pipeline we defined, training data X, corresponding target values y, 5 folds, and\n",
    "    # scoring method neg_mean_absolute_error. Returns an array of cv average values.\n",
    "    scores = -1 * cross_val_score(clf, X, y,\n",
    "                              cv=5,\n",
    "                              scoring='neg_mean_absolute_error')\n",
    "    \n",
    "    #Average and return the 5 values\n",
    "    avg_score = sum(scores)/5\n",
    "    return avg_score"
   ]
  },
  {
   "cell_type": "markdown",
   "id": "2274f1a0",
   "metadata": {},
   "source": [
    "### Now we'll see how our model performs for different values of n_estimators by running the function across multiple values and storing it in the dictionary scores. We'll then visualize it in the plot generated below - the lower the MAE the better the performance of the model."
   ]
  },
  {
   "cell_type": "code",
   "execution_count": 6,
   "id": "184f60c1",
   "metadata": {},
   "outputs": [],
   "source": [
    "scores = {x:get_score(x) for x in list(range(100,401,50))}"
   ]
  },
  {
   "cell_type": "code",
   "execution_count": 7,
   "id": "8bb7b50c",
   "metadata": {},
   "outputs": [
    {
     "data": {
      "image/png": "[encoded data removed]",
      "text/plain": [
       "<Figure size 432x288 with 1 Axes>"
      ]
     },
     "metadata": {
      "needs_background": "light"
     },
     "output_type": "display_data"
    }
   ],
   "source": [
    "import matplotlib.pyplot as plt\n",
    "%matplotlib inline\n",
    "\n",
    "plt.plot(list(scores.keys()), list(scores.values()))\n",
    "plt.show()"
   ]
  },
  {
   "cell_type": "markdown",
   "id": "f48b0e73",
   "metadata": {},
   "source": [
    "### We can see that n_estimators = 350 has generated the model with the lowest average MAE. Therefore, we can expect this model to perform the best on the training set. We will now generate a Pipeline with n_estimators = 350, fit our training data to the model, and generate predictions for the test data set. We will save these predictions as a csv file and submit them to Kaggle."
   ]
  },
  {
   "cell_type": "code",
   "execution_count": 8,
   "id": "4b4bcab4",
   "metadata": {},
   "outputs": [],
   "source": [
    "clf = Pipeline(steps=[('preprocessor', preprocessor),\n",
    "                          ('model', RandomForestRegressor(n_estimators=350, random_state=0))\n",
    "                         ])\n",
    "clf.fit(X,y)\n",
    "preds_test = clf.predict(X_test)\n",
    "\n",
    "output = pd.DataFrame({'Id': X_test['Id'],\n",
    "                       'SalePrice': preds_test})\n",
    "output.to_csv('submission.csv', index=False)"
   ]
  },
  {
   "cell_type": "markdown",
   "id": "880a6536",
   "metadata": {},
   "source": [
    "## After implementing Pipeline and Cross Validation the MAE is at 16,070 and I am in the top 11% of the competition."
   ]
  }
 ],
 "metadata": {
  "kernelspec": {
   "display_name": "Python 3",
   "language": "python",
   "name": "python3"
  },
  "language_info": {
   "codemirror_mode": {
    "name": "ipython",
    "version": 3
   },
   "file_extension": ".py",
   "mimetype": "text/x-python",
   "name": "python",
   "nbconvert_exporter": "python",
   "pygments_lexer": "ipython3",
   "version": "3.8.8"
  }
 },
 "nbformat": 4,
 "nbformat_minor": 5
}
